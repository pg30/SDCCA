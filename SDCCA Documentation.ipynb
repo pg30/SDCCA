{
 "cells": [
  {
   "cell_type": "markdown",
   "metadata": {},
   "source": [
    "# Similarity Distance Based CCA\n",
    "-----------\n",
    "#### Through SDCCA latent space for multiview learning is determined by incorporating similarities and complementary information from multiple views with cross correlation analysis.\n",
    "[Source Code](https://github.com/shekhar-sharma/DataScience/tree/main/Groups/Group_ID_23)"
   ]
  },
  {
   "cell_type": "markdown",
   "metadata": {},
   "source": [
    "## Package organization\n",
    "------------------------------------------------------------------    \n",
    "`Class SDCCA(scale = True, k = 2)`\n",
    "\n",
    "**Parameters:**\n",
    "- *scale* : boolean, default = True, Whether to scale the data or not.\n",
    "\n",
    "- *k* : int, default = 2, Number of neighbours to consider in K-Means Algorithm.\n",
    "\n",
    "**Attributes:**\n",
    "- *x* : first data set of dimension n x p with n samples and p features.\n",
    "- *y* : second data set of dimension n x q with n samples and q features.\n",
    "- *n* : number of samples in datasets\n",
    "- *p* : number of features in x dataset\n",
    "- *q* : number of features in y dataser\n",
    "- *wx* , *wy* : final projection vectors of two views.\n",
    "\n",
    "## Methods\n",
    "------------------------------------------------------------------\n",
    "\n",
    "`fit(self, x, y)`\n",
    "\n",
    "Fit the model from the data in x and the labels in y and finds the projection vectors\n",
    "\n",
    "**Parameters**\n",
    "- *x* : dataframe-like, shape (n x p) where n is the number of samples, and p is the number of features.\n",
    "- *y* : dataframe-like, shape (n x q) where n is the number of samples, and q is the number of features.\n",
    "\n",
    "#### Returns\n",
    "- *wx* , *wy* : Projection vectors\n",
    "------------------------------------------------------------------ \n",
    "\n",
    "\n",
    "`fit_transform(self, x, y)`\n",
    "\n",
    "Applies the projection vectors on the dataset \n",
    "\n",
    " **Parameters**\n",
    "- *x* : dataframe-like, shape (n x p)\n",
    "    Training vector, where n is the number of samples, and p is the number of features.\n",
    "- *y* : dataframe-like, shape (n x q)\n",
    "    Training vector, where n is the number of samples, and q is the number of features.\n",
    "\t\n",
    "#### Returns\n",
    "*x_new* , *y_new* : Projected views transformed by the projected vectors"
   ]
  },
  {
   "cell_type": "markdown",
   "metadata": {},
   "source": [
    "## Usage\n",
    " **Example:1**"
   ]
  },
  {
   "cell_type": "code",
   "execution_count": null,
   "metadata": {},
   "outputs": [],
   "source": [
    "from SDCCA import SDCCA\n",
    "x = np.array([[0., 0., 1.], [1.,0.,0.], [2.,2.,2.], [3.,5.,4.]])\n",
    "y = np.array([[0.1, 0.2], [0.9, 1.1], [6.2, 5.9], [11.9, 12.3]])\n",
    "sdcca = SDCCA(scale = False)\n",
    "wx,wy = sdcca.fit(x, y)\n",
    "print(wx)\n",
    "print(wy)"
   ]
  },
  {
   "cell_type": "markdown",
   "metadata": {},
   "source": [
    "<pre>\n",
    "Projections  \n",
    "wx  :  \n",
    "[[-28.4951993   0.2682586  -0.975527 ]\n",
    " [-42.1618415  -0.5543857   0.2679151]\n",
    " [-35.6725722   0.3283515   0.5998168]]\n",
    "   \n",
    "wy :  \n",
    "[[257.9830053  -0.0865349]\n",
    " [262.5667474   0.0852448]]\n",
    "</pre>"
   ]
  },
  {
   "cell_type": "markdown",
   "metadata": {},
   "source": [
    "#### Example:2"
   ]
  },
  {
   "cell_type": "code",
   "execution_count": null,
   "metadata": {},
   "outputs": [],
   "source": [
    "from SDCCA import SDCCA\n",
    "x = np.array([[1., 2.1, 1.], [1., 2.1, 0.5], [2.,2.,2.], [3.,5.,4.]])\n",
    "y = np.array([[0.1, 4.2], [0.9, 2.1], [7.2, 5.9], [12.9, 1.3]])\n",
    "sdcca = SDCCA(k=4)\n",
    "x_new, y_new = sdcca.fit_transform(x,y)\n",
    "print(x_new)\n",
    "print(y_new)"
   ]
  },
  {
   "cell_type": "markdown",
   "metadata": {},
   "source": [
    "<pre>\n",
    "Transformed Data\n",
    "X New : \n",
    "[[ -5.8380473  -7.4261078  -6.2538804]\n",
    " [ -5.823948   -7.4249809  -6.2690812]\n",
    " [ -12.4623148 -13.7376682 -12.9121544]\n",
    " [ -18.0069253 -21.6219808 -18.9701994]]\n",
    "\n",
    "Y New :  \n",
    "[[  3.896946    12.9154699]\n",
    " [ -1.4534688   8.8647358]\n",
    " [ -22.7799413  38.134078 ]\n",
    " [ -50.2993919  40.4397741]]\n",
    "</pre>"
   ]
  }
 ],
 "metadata": {
  "kernelspec": {
   "display_name": "Python 3",
   "language": "python",
   "name": "python3"
  },
  "language_info": {
   "codemirror_mode": {
    "name": "ipython",
    "version": 3
   },
   "file_extension": ".py",
   "mimetype": "text/x-python",
   "name": "python",
   "nbconvert_exporter": "python",
   "pygments_lexer": "ipython3",
   "version": "3.8.3"
  }
 },
 "nbformat": 4,
 "nbformat_minor": 4
}
